{
 "cells": [
  {
   "cell_type": "code",
   "execution_count": 2,
   "metadata": {},
   "outputs": [],
   "source": [
    "from Functions import * # load all preprocessing functions\n",
    "from sklearn import svm"
   ]
  },
  {
   "cell_type": "markdown",
   "metadata": {},
   "source": [
    "# Part 1: Email Preprocessing\n",
    "\n",
    "Use an SVM (in sklearn) to classify emails and identify spam emails. Each email are preprocessed to rule of punctuations, numbers etc. Then it is tokenized and convert to a vector of features. Finally a word indices vector is derived."
   ]
  },
  {
   "cell_type": "code",
   "execution_count": 1,
   "metadata": {},
   "outputs": [
    {
     "name": "stdout",
     "output_type": "stream",
     "text": [
      "File has been read\n"
     ]
    }
   ],
   "source": [
    "A = getVocabList()\n",
    "\n",
    "email_contents = readFile(\"emailSample1.txt\")\n",
    "Word_indices = processEmail(email_contents)\n",
    "features = emailFeatures(Word_indices)"
   ]
  },
  {
   "cell_type": "code",
   "execution_count": 29,
   "metadata": {},
   "outputs": [],
   "source": [
    "# Load the Pandas libraries with alias 'pd' \n",
    "import pandas as pd \n",
    "\n",
    "train_X = pd.read_csv(\"spamTrain_X.csv\") \n",
    "train_y = pd.read_csv(\"spamTrain_y.csv\").values.ravel()\n",
    "\n",
    "test_X = pd.read_csv(\"spamTest_X.csv\") \n",
    "test_y = pd.read_csv(\"spamTest_y.csv\").values.ravel()"
   ]
  },
  {
   "cell_type": "markdown",
   "metadata": {},
   "source": [
    "# Preprocessing"
   ]
  },
  {
   "cell_type": "code",
   "execution_count": 27,
   "metadata": {},
   "outputs": [
    {
     "name": "stdout",
     "output_type": "stream",
     "text": [
      "\n",
      "Training Linear SVM (Spam Classification)\n",
      "\n",
      "(this may take 1 to 2 minutes) ...\n",
      "\n",
      "Training Accuracy: 99.97499374843711\n"
     ]
    }
   ],
   "source": [
    "# Training\n",
    "from sklearn.svm import SVC\n",
    "print('\\nTraining Linear SVM (Spam Classification)\\n')\n",
    "print('(this may take 1 to 2 minutes) ...\\n')\n",
    "\n",
    "mykernel = 'linear'\n",
    "mygamma = 'auto'\n",
    "myC = 1\n",
    "svclassifier = SVC(kernel= mykernel, gamma = mygamma, C = myC)\n",
    "svclassifier.fit(train_X, train_y)\n",
    "y_pred = svclassifier.predict(train_X)\n",
    "\n",
    "print('Training Accuracy: '+ str(sum(y_pred == train_y)/len(train_y) * 100));"
   ]
  },
  {
   "cell_type": "markdown",
   "metadata": {},
   "source": [
    "# Apply the model on testset"
   ]
  },
  {
   "cell_type": "code",
   "execution_count": 30,
   "metadata": {},
   "outputs": [
    {
     "name": "stdout",
     "output_type": "stream",
     "text": [
      "\n",
      "Evaluating the trained Linear SVM on a test set ...\n",
      "\n",
      "Test Accuracy: 97.7977977977978\n"
     ]
    }
   ],
   "source": [
    "# Results on test set\n",
    "print('\\nEvaluating the trained Linear SVM on a test set ...\\n')\n",
    "\n",
    "y_pred = svclassifier.predict(test_X)\n",
    "\n",
    "print('Test Accuracy: '+ str(sum(y_pred == test_y)/len(test_y) * 100))"
   ]
  },
  {
   "cell_type": "markdown",
   "metadata": {},
   "source": [
    "# The top 15 words "
   ]
  },
  {
   "cell_type": "code",
   "execution_count": 130,
   "metadata": {},
   "outputs": [
    {
     "name": "stdout",
     "output_type": "stream",
     "text": [
      "\n",
      "Top predictors of spam: \n",
      "\n",
      "otherwis\n",
      "flag\n",
      "why\n",
      "numberanumb\n",
      "remot\n",
      "visa\n",
      "clearli\n",
      "board\n",
      "gt\n",
      "seminar\n",
      "technolog\n",
      "institut\n",
      "dollarac\n",
      "titl\n"
     ]
    }
   ],
   "source": [
    "# The following code finds the words with\n",
    "# the highest weights in the classifier. Informally, the classifier\n",
    "# 'thinks' that these words are the most likely indicators of spam.\n",
    "import operator\n",
    "weight_dic = {}\n",
    "w = svclassifier.coef_\n",
    "for i in range(1,len(w[0][:])):\n",
    "    weight_dic[i] = w[0][i]\n",
    "    \n",
    "vocabList = getVocabList()\n",
    "sorted_weight = sorted(weight_dic.items(), key=operator.itemgetter(1),reverse=True)\n",
    "print('\\nTop predictors of spam: \\n')\n",
    "\n",
    "# get the top 15 words.\n",
    "for x in sorted_weight[0:14]:\n",
    "    print(vocabList[x[0]])"
   ]
  },
  {
   "cell_type": "code",
   "execution_count": null,
   "metadata": {},
   "outputs": [],
   "source": [
    "\n"
   ]
  },
  {
   "cell_type": "code",
   "execution_count": null,
   "metadata": {},
   "outputs": [],
   "source": []
  }
 ],
 "metadata": {
  "kernelspec": {
   "display_name": "Python 3",
   "language": "python",
   "name": "python3"
  },
  "language_info": {
   "codemirror_mode": {
    "name": "ipython",
    "version": 3
   },
   "file_extension": ".py",
   "mimetype": "text/x-python",
   "name": "python",
   "nbconvert_exporter": "python",
   "pygments_lexer": "ipython3",
   "version": "3.7.3"
  }
 },
 "nbformat": 4,
 "nbformat_minor": 2
}
